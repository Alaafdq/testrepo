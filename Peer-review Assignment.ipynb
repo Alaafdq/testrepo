{
 "cells": [
  {
   "cell_type": "markdown",
   "id": "fddd270f-ef14-45e6-b63a-648a04633df6",
   "metadata": {},
   "source": [
    "# My Jupyter Notebook on IBM Watson Studio "
   ]
  },
  {
   "cell_type": "markdown",
   "id": "0143eb6b-4738-4744-93dc-71fa1c9cae56",
   "metadata": {},
   "source": [
    "**Alaa** \n",
    "<br>Data Scientist "
   ]
  },
  {
   "cell_type": "markdown",
   "id": "e8357313-08e8-4b81-a381-dbde33bf9209",
   "metadata": {},
   "source": [
    "*I'm interested in data science because I want to start a career in data science especially in the health sector* "
   ]
  },
  {
   "cell_type": "markdown",
   "id": "dcbce2f4-888a-49fe-bd60-ae272bf9e497",
   "metadata": {},
   "source": [
    "### In the next cell, the result of using * to multiple two numbers "
   ]
  },
  {
   "cell_type": "code",
   "execution_count": 1,
   "id": "27478179-c36e-4806-9679-d32238eb179f",
   "metadata": {},
   "outputs": [
    {
     "data": {
      "text/plain": [
       "100"
      ]
     },
     "execution_count": 1,
     "metadata": {},
     "output_type": "execute_result"
    }
   ],
   "source": [
    "10*10"
   ]
  },
  {
   "cell_type": "markdown",
   "id": "0d559a2a-b7db-49ec-9ceb-1b32d2f08b44",
   "metadata": {},
   "source": [
    "### Bulleted List:\n",
    "Programming Languages:\n",
    "* C++\n",
    "* Python \n",
    "* Scala \n",
    "* Java \n",
    "* Julia \n",
    "\n",
    "\n",
    "### Numbered List:\n",
    "NoSQl Databases: \n",
    "1. MongoDB \n",
    "2. CouchDB \n",
    "3. Riak \n",
    "\n",
    "### Horizontal Rule:\n",
    "***\n",
    "\n",
    "### Code/Syntax Highlighting: \n",
    "`20+20`\n",
    "\n",
    "``` python\n",
    "20+20\n",
    "```\n",
    "\n",
    "### Blockedquotes \n",
    "> Perfection is found in accepting your imperfections- Bridgett Devoue\n",
    "\n",
    "### Strikethrough \n",
    "\n",
    "MongoDB is an open source of NoSQL databases. ~~It is a document-oriented database~~\n"
   ]
  },
  {
   "cell_type": "code",
   "execution_count": null,
   "id": "8903440a-bc56-4209-9f88-9339e665f629",
   "metadata": {},
   "outputs": [],
   "source": []
  }
 ],
 "metadata": {
  "kernelspec": {
   "display_name": "Python",
   "language": "python",
   "name": "conda-env-python-py"
  },
  "language_info": {
   "codemirror_mode": {
    "name": "ipython",
    "version": 3
   },
   "file_extension": ".py",
   "mimetype": "text/x-python",
   "name": "python",
   "nbconvert_exporter": "python",
   "pygments_lexer": "ipython3",
   "version": "3.7.12"
  }
 },
 "nbformat": 4,
 "nbformat_minor": 5
}
